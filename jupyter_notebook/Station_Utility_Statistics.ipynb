{
 "cells": [
  {
   "cell_type": "code",
   "execution_count": null,
   "id": "5cc17db4",
   "metadata": {},
   "outputs": [],
   "source": [
    "from matplotlib import pyplot as plt\n",
    "import csv\n",
    "import numpy as np\n",
    "import pandas as pd\n",
    "\n",
    "\n",
    "# with open('/Users/qingjie/Documents/Project_Apple/MacATV/J604/P1/SMT_Combine', 'r') as f:\n",
    "#     data = [row for row in csv.reader(f.read().splitlines())]\n",
    "#     print(data)\n",
    "\n",
    "df = pd.read_csv('/Users/qingjie/Library/Mobile Documents/com~apple~CloudDocs/documents/project_apple/macatv/j604/p1/smt_combine/SMT_station_utility.csv')\n",
    "column_SN = df[\"Serial Number\"]\n",
    "print(column_SN)\n"
   ]
  },
  {
   "cell_type": "code",
   "execution_count": null,
   "id": "1d8d58b4",
   "metadata": {},
   "outputs": [],
   "source": [
    "print(df)"
   ]
  },
  {
   "cell_type": "code",
   "execution_count": null,
   "id": "f3fdaf63",
   "metadata": {},
   "outputs": [],
   "source": [
    "column_teststarttime = df['Test Start Time']\n",
    "print(column_teststarttime)"
   ]
  },
  {
   "cell_type": "code",
   "execution_count": null,
   "id": "72b8c325",
   "metadata": {},
   "outputs": [],
   "source": [
    "column_teststoptime = df['Test Stop Time']\n",
    "print(column_teststoptime)"
   ]
  },
  {
   "cell_type": "code",
   "execution_count": null,
   "id": "7205ed26",
   "metadata": {},
   "outputs": [],
   "source": [
    "df.describe()"
   ]
  },
  {
   "cell_type": "code",
   "execution_count": null,
   "id": "768d25dd",
   "metadata": {},
   "outputs": [],
   "source": [
    "df.sort_values(by = 'Test Start Time')"
   ]
  },
  {
   "cell_type": "code",
   "execution_count": null,
   "id": "00ceb7de",
   "metadata": {},
   "outputs": [],
   "source": [
    "df.groupby('STATION_TYPE')"
   ]
  },
  {
   "cell_type": "code",
   "execution_count": null,
   "id": "ec337828",
   "metadata": {},
   "outputs": [],
   "source": [
    "df"
   ]
  },
  {
   "cell_type": "code",
   "execution_count": null,
   "id": "19546c4d",
   "metadata": {},
   "outputs": [],
   "source": [
    "df.groupby(\"STATION_TYPE\")"
   ]
  },
  {
   "cell_type": "code",
   "execution_count": null,
   "id": "e4302186",
   "metadata": {},
   "outputs": [],
   "source": [
    "df.groupby(\"STATION_NUMBER\")"
   ]
  },
  {
   "cell_type": "code",
   "execution_count": null,
   "id": "682d9ae6",
   "metadata": {},
   "outputs": [],
   "source": [
    "df1 = df.groupby(\"STATION_TYPE\")\n",
    "print(df1)"
   ]
  },
  {
   "cell_type": "code",
   "execution_count": null,
   "id": "8508d3fc",
   "metadata": {},
   "outputs": [],
   "source": [
    "df.groupby(\"STATION_TYPE\").count()"
   ]
  },
  {
   "cell_type": "code",
   "execution_count": null,
   "id": "e690c976",
   "metadata": {},
   "outputs": [],
   "source": [
    "df.groupby([\"STATION_TYPE\",\"STATION_NUMBER\"])"
   ]
  },
  {
   "cell_type": "code",
   "execution_count": null,
   "id": "92abfa3f",
   "metadata": {},
   "outputs": [],
   "source": [
    "df.groupby([\"STATION_TYPE\",\"STATION_NUMBER\"]).count"
   ]
  },
  {
   "cell_type": "code",
   "execution_count": null,
   "id": "2c280fd9",
   "metadata": {},
   "outputs": [],
   "source": [
    "df.groupby([\"STATION_TYPE\",\"STATION_NUMBER\"]).count()"
   ]
  },
  {
   "cell_type": "code",
   "execution_count": null,
   "id": "b740354e",
   "metadata": {},
   "outputs": [],
   "source": [
    "print(df.groupby([\"STATION_TYPE\",\"STATION_NUMBER\"]).count())"
   ]
  },
  {
   "cell_type": "code",
   "execution_count": null,
   "id": "5394a3f0",
   "metadata": {},
   "outputs": [],
   "source": [
    "print(df.groupby([\"STATION_TYPE\",\"STATION_NUMBER\"]))"
   ]
  },
  {
   "cell_type": "code",
   "execution_count": null,
   "id": "2088485a",
   "metadata": {},
   "outputs": [],
   "source": [
    "df.sort_values(by=['STATION_TYPE','STATION_NUMBER'])"
   ]
  },
  {
   "cell_type": "code",
   "execution_count": null,
   "id": "78d029f7",
   "metadata": {},
   "outputs": [],
   "source": [
    "df.sort_values(by=['STATION_TYPE','STATION_NUMBER','Test Start Time'])"
   ]
  },
  {
   "cell_type": "code",
   "execution_count": null,
   "id": "accacc20",
   "metadata": {},
   "outputs": [],
   "source": [
    "df1 = df.sort_values(by=['STATION_TYPE','STATION_NUMBER','Test Start Time'])\n",
    "df1"
   ]
  },
  {
   "cell_type": "code",
   "execution_count": null,
   "id": "a5b6d592",
   "metadata": {},
   "outputs": [],
   "source": [
    "df1 = df.sort_values(by=['STATION_TYPE','STATION_NUMBER','Test Start Time'])\n",
    "print(df1)"
   ]
  },
  {
   "cell_type": "code",
   "execution_count": null,
   "id": "e7d57522",
   "metadata": {},
   "outputs": [],
   "source": [
    "df1.loc[:,'Test Start Time']"
   ]
  },
  {
   "cell_type": "code",
   "execution_count": null,
   "id": "4a17313f",
   "metadata": {},
   "outputs": [],
   "source": [
    "df1.loc[160,'Test Start Time']"
   ]
  },
  {
   "cell_type": "code",
   "execution_count": null,
   "id": "90072661",
   "metadata": {},
   "outputs": [],
   "source": [
    "import time\n",
    "import datetime\n",
    "\n",
    "pd.Timestamp('2023/5/17 19:46')"
   ]
  },
  {
   "cell_type": "code",
   "execution_count": null,
   "id": "2ffa4a09",
   "metadata": {},
   "outputs": [],
   "source": [
    "df['Test Start Time']"
   ]
  },
  {
   "cell_type": "code",
   "execution_count": null,
   "id": "aedd2de5",
   "metadata": {},
   "outputs": [],
   "source": [
    "pd.to_datetime(df['Test Start Time'], format='%Y/%m/%d %H:%M')"
   ]
  },
  {
   "cell_type": "code",
   "execution_count": null,
   "id": "d2533d41",
   "metadata": {},
   "outputs": [],
   "source": [
    "df['Test Start Time']"
   ]
  },
  {
   "cell_type": "code",
   "execution_count": null,
   "id": "be9b0be3",
   "metadata": {},
   "outputs": [],
   "source": [
    "TS_start_time = pd.to_datetime(df['Test Start Time'], format='%Y/%m/%d %H:%M')\n",
    "TS_stop_time = pd.to_datetime(df['Test Stop Time'], format='%Y/%m/%d %H:%M')\n",
    "TS_start_time\n",
    "TS_stop_time"
   ]
  },
  {
   "cell_type": "code",
   "execution_count": null,
   "id": "e1959311",
   "metadata": {},
   "outputs": [],
   "source": [
    "pd.Period('2023/5/17 19:46', freq = 'min')"
   ]
  },
  {
   "cell_type": "code",
   "execution_count": null,
   "id": "2b9ffaad",
   "metadata": {},
   "outputs": [],
   "source": [
    "time_delta = TS_stop_time - TS_start_time\n",
    "time_delta"
   ]
  },
  {
   "cell_type": "code",
   "execution_count": null,
   "id": "680f8103",
   "metadata": {},
   "outputs": [],
   "source": [
    "time_delta.dt.total_seconds()/60"
   ]
  },
  {
   "cell_type": "code",
   "execution_count": null,
   "id": "c7ffa1b9",
   "metadata": {},
   "outputs": [],
   "source": [
    "TS_start_time[0]"
   ]
  },
  {
   "cell_type": "code",
   "execution_count": null,
   "id": "4392e182",
   "metadata": {},
   "outputs": [],
   "source": [
    "TS_stop_time.iloc[-1]"
   ]
  },
  {
   "cell_type": "code",
   "execution_count": null,
   "id": "7ce8fe29",
   "metadata": {},
   "outputs": [],
   "source": [
    "total_test_time_span = TS_stop_time.iloc[-1] - TS_start_time.iloc[0]\n",
    "total_test_time_span"
   ]
  },
  {
   "cell_type": "code",
   "execution_count": null,
   "id": "26c241f8",
   "metadata": {},
   "outputs": [],
   "source": [
    "total_test_time_span.total_seconds()"
   ]
  },
  {
   "cell_type": "code",
   "execution_count": null,
   "id": "1daee9a2",
   "metadata": {},
   "outputs": [],
   "source": [
    "TS_start_time = pd.to_datetime(df1['Test Start Time'], format='%Y/%m/%d %H:%M')\n",
    "TS_stop_time = pd.to_datetime(df1['Test Stop Time'], format='%Y/%m/%d %H:%M')\n",
    "TS_start_time\n",
    "TS_stop_time"
   ]
  },
  {
   "cell_type": "code",
   "execution_count": null,
   "id": "e660387e",
   "metadata": {},
   "outputs": [],
   "source": [
    "time_delta = TS_stop_time - TS_start_time\n",
    "time_delta"
   ]
  },
  {
   "cell_type": "code",
   "execution_count": null,
   "id": "44e7bc65",
   "metadata": {},
   "outputs": [],
   "source": [
    "df1"
   ]
  },
  {
   "cell_type": "code",
   "execution_count": null,
   "id": "92d396cc",
   "metadata": {},
   "outputs": [],
   "source": [
    "time_delta.dt.total_seconds()/60"
   ]
  },
  {
   "cell_type": "code",
   "execution_count": null,
   "id": "bc03df6e",
   "metadata": {},
   "outputs": [],
   "source": [
    "TS_start_time[0]"
   ]
  },
  {
   "cell_type": "code",
   "execution_count": null,
   "id": "6b5529da",
   "metadata": {},
   "outputs": [],
   "source": [
    "TS_start_time.min()"
   ]
  },
  {
   "cell_type": "code",
   "execution_count": null,
   "id": "56bfc205",
   "metadata": {},
   "outputs": [],
   "source": [
    "TS_stop_time.max()"
   ]
  },
  {
   "cell_type": "code",
   "execution_count": null,
   "id": "39bcc8df",
   "metadata": {},
   "outputs": [],
   "source": [
    "total_test_time_span = TS_stop_time.max() - TS_start_time.min()\n",
    "total_test_time_span"
   ]
  },
  {
   "cell_type": "code",
   "execution_count": null,
   "id": "e3f212c1",
   "metadata": {},
   "outputs": [],
   "source": [
    "total_test_time_span.total_seconds()"
   ]
  },
  {
   "cell_type": "code",
   "execution_count": null,
   "id": "c1d4b8ff",
   "metadata": {},
   "outputs": [],
   "source": [
    "total_test_time_span.total_seconds()/60"
   ]
  },
  {
   "cell_type": "code",
   "execution_count": null,
   "id": "c8902358",
   "metadata": {},
   "outputs": [],
   "source": [
    "TS_start_time = pd.to_datetime(df['Test Start Time'], format='%Y/%m/%d %H:%M')\n",
    "TS_stop_time = pd.to_datetime(df['Test Stop Time'], format='%Y/%m/%d %H:%M')\n",
    "time_delta = TS_stop_time - TS_start_time\n",
    "time_delta"
   ]
  },
  {
   "cell_type": "code",
   "execution_count": null,
   "id": "432b105c",
   "metadata": {},
   "outputs": [],
   "source": [
    "time_delta.dt.total_seconds()/60"
   ]
  },
  {
   "cell_type": "code",
   "execution_count": null,
   "id": "73e12dfc",
   "metadata": {},
   "outputs": [],
   "source": [
    "total_test_time_span = TS_stop_time.max() - TS_start_time.min()\n",
    "total_test_time_span"
   ]
  },
  {
   "cell_type": "code",
   "execution_count": null,
   "id": "fe8010db",
   "metadata": {},
   "outputs": [],
   "source": [
    "total_test_time_span.total_seconds()"
   ]
  },
  {
   "cell_type": "code",
   "execution_count": null,
   "id": "3a08d662",
   "metadata": {},
   "outputs": [],
   "source": [
    "total_test_time_span = (TS_stop_time.max() - TS_start_time.min()).total_seconds()/60\n",
    "total_test_time_span"
   ]
  },
  {
   "cell_type": "code",
   "execution_count": null,
   "id": "9a3c7355",
   "metadata": {},
   "outputs": [],
   "source": [
    "TS_start_time"
   ]
  },
  {
   "cell_type": "code",
   "execution_count": null,
   "metadata": {},
   "outputs": [],
   "source": [
    "df.groupby(['STATION_TYPE']).count()"
   ]
  },
  {
   "cell_type": "code",
   "execution_count": null,
   "metadata": {},
   "outputs": [],
   "source": [
    "df.groupby(['STATION_TYPE', 'STATION_NUMBER']).count()"
   ]
  },
  {
   "cell_type": "code",
   "execution_count": null,
   "metadata": {},
   "outputs": [],
   "source": [
    "import time\n",
    "import datetime\n",
    "from matplotlib import pyplot as plt\n",
    "import csv\n",
    "import numpy as np\n",
    "import pandas as pd\n",
    "\n",
    "df = pd.read_csv('/Users/qingjie/Library/Mobile Documents/com~apple~CloudDocs/documents/project_apple/macatv/j604/p1/smt_combine/SMT_station_utility.csv')\n",
    "grouped_1 = df.groupby([\"STATION_TYPE\", \"STATION_NUMBER\"], as_index=False).count()\n",
    "# grouped_1\n",
    "# grouped_1.loc[:,'STATION_TYPE']\n",
    "# grouped_1.loc[:,['STATION_TYPE','STATION_NUMBER']]\n",
    "\n",
    "# for index in grouped_1.index:\n",
    "#     print(index)\n",
    "\n",
    "ylabels = [] \n",
    "\n",
    "for index in grouped_1.index:\n",
    "    ylabels.append(grouped_1.loc[index, 'STATION_TYPE'] + \"_\" + str(grouped_1.loc[index, 'STATION_NUMBER']))\n",
    "        \n",
    "\n",
    "# print(ylabels)\n",
    "# print(len(ylabels))\n",
    "\n",
    "ylim_bottom = 0\n",
    "yaxis_step = 2\n",
    "ylim_top = ylim_bottom + len(ylabels) * yaxis_step\n",
    "\n",
    "\n",
    "yticks_position = []\n",
    "for i in range (ylim_bottom + yaxis_step, ylim_top + yaxis_step, yaxis_step):\n",
    "    yticks_position.append(i)\n",
    "\n",
    "\n",
    "grouped_1\n",
    "\n",
    "\n"
   ]
  },
  {
   "cell_type": "code",
   "execution_count": null,
   "metadata": {},
   "outputs": [],
   "source": [
    "import time\n",
    "import datetime\n",
    "from matplotlib import pyplot as plt\n",
    "from matplotlib import ticker\n",
    "import csv\n",
    "import numpy as np\n",
    "import pandas as pd\n",
    "import matplotlib.dates as mdates\n",
    "\n",
    "fig, ax = plt.subplots(figsize=(30,22))\n",
    "ax.set(title=\"J604 P1 Station Utility\")\n",
    "\n",
    "\n",
    "df = pd.read_csv('/Users/qingjie/Library/Mobile Documents/com~apple~CloudDocs/documents/project_apple/macatv/j604/p1/smt_combine/SMT_station_utility.csv')\n",
    "\n",
    "grouped_1 = df.groupby([\"STATION_TYPE\", \"STATION_NUMBER\"], as_index=False).count()\n",
    "\n",
    "df1 = df.sort_values(by=['STATION_TYPE','STATION_NUMBER','Test Start Time'], ignore_index=True)\n",
    "\n",
    "# transfer Test_Start_Time column from object to datetime so we could do calculation\n",
    "TS_start_time_df1 = pd.to_datetime(df1['Test Start Time'], format='%Y/%m/%d %H:%M')\n",
    "\n",
    "\n",
    "# print(df1.columns.get_loc('Test Start Time'))\n",
    "df1.insert(df1.columns.get_loc('Test Start Time'), \"TS_start_time\", TS_start_time_df1, True)\n",
    "\n",
    "\n",
    "TS_stop_time_df1 = pd.to_datetime(df1['Test Stop Time'], format='%Y/%m/%d %H:%M')\n",
    "df1.insert(df1.columns.get_loc('Test Stop Time'), \"TS_stop_time\", TS_stop_time_df1, True)\n",
    "\n",
    "\n",
    "\n",
    "# time_delta column is test time duration for each test\n",
    "time_delta_df1 = TS_stop_time_df1 - TS_start_time_df1\n",
    "\n",
    "for index in time_delta_df1.index:\n",
    "    time_delta_df1.iloc[index] = time_delta_df1.iloc[index].total_seconds()/60\n",
    "\n",
    "df1.insert(df1.columns.get_loc('Test Stop Time')+1, \"time_delta\", time_delta_df1, True)\n",
    "\n",
    "# conver time_delta column dtype from object to float\n",
    "df1['time_delta'] = pd.to_numeric(df1['time_delta'])\n",
    "\n",
    "# df1.loc[:,'time_delta']\n",
    "\n",
    "# total_test_time_span is the total test time in minutes from first DUT of first day to last DUT of last day\n",
    "# this will be the x-axis\n",
    "total_test_time_span = (TS_stop_time_df1.max() - TS_start_time_df1.min()).total_seconds()/60\n",
    "\n",
    "print('df1 start time min is:', TS_start_time_df1.min())\n",
    "\n",
    "df1.to_csv('/Users/qingjie/Library/Mobile Documents/com~apple~CloudDocs/documents/project_apple/macatv/j604/p1/smt_combine/SMT_station_utility_df1.csv')\n",
    "\n",
    "\n",
    "# ============= set y axis below ================\n",
    "\n",
    "ylabels = [] \n",
    "\n",
    "for index in grouped_1.index:\n",
    "    ylabels.append(grouped_1.loc[index, 'STATION_TYPE'] + \"_\" + str(grouped_1.loc[index, 'STATION_NUMBER']))\n",
    "        \n",
    "\n",
    "# print(ylabels)\n",
    "# print(len(ylabels))\n",
    "\n",
    "ylim_bottom = 0\n",
    "yaxis_unit  = 1\n",
    "yaxis_step = 3 * yaxis_unit\n",
    "ylim_top = ylim_bottom + len(ylabels) * yaxis_step + 1 * yaxis_unit\n",
    "\n",
    "ax.set_ylim(ylim_bottom, ylim_top)\n",
    "\n",
    "yticks_position = []\n",
    "for i in range (ylim_bottom + 2 * yaxis_unit, ylim_top, yaxis_step):\n",
    "    yticks_position.append(i)\n",
    "\n",
    "ax.set_yticks(yticks_position, labels=ylabels)\n",
    "\n",
    "# ============= set x axis below ================\n",
    "\n",
    "xlim_left = 0\n",
    "xlim_right = total_test_time_span\n",
    "\n",
    "ax.set_xlim(xlim_left, xlim_right)\n",
    "ax.set_xlabel('minutes since first unit')\n",
    "\n",
    "broken_barh_all_stations = []\n",
    "\n",
    "# df1\n",
    "\n",
    "\n",
    "df2 =  df1.loc[(df1['STATION_TYPE'] == 'SMT-COEX1') & (df1['STATION_NUMBER'] == 2)]\n",
    "\n",
    "# get all broken barh xragens for each station\n",
    "for index in grouped_1.index:\n",
    "    df2 = df1.loc[(df1['STATION_TYPE'] == grouped_1.loc[index, 'STATION_TYPE']) & (df1['STATION_NUMBER'] == grouped_1.loc[index, 'STATION_NUMBER'])]\n",
    "    # initialize one station barh to clear last staion barh data\n",
    "    broken_barh_one_station = []\n",
    "\n",
    "    for index_2 in df2.index:\n",
    "        xrange_xmin = (df2.loc[index_2, 'TS_start_time'] - TS_start_time_df1.min()).total_seconds()/60\n",
    "        xrange_xwidth = df2.loc[index_2, 'time_delta']\n",
    "        broken_barh_one_station.append((xrange_xmin, xrange_xwidth))\n",
    "\n",
    "    broken_barh_all_stations.append(broken_barh_one_station)\n",
    "\n",
    "# yrange setting for broken barh\n",
    "yranges = []\n",
    "for label_index, lable in enumerate(ylabels):\n",
    "    yrange_ymin = yticks_position[label_index] - yaxis_unit\n",
    "    yrange_yheight = 2 * yaxis_unit\n",
    "    yrange = (yrange_ymin, yrange_yheight)\n",
    "    yranges.append(yrange)\n",
    "\n",
    "# plot broken barh for each station\n",
    "for label_index, lable in enumerate(ylabels):\n",
    "    ax.broken_barh(broken_barh_all_stations[label_index], yranges[label_index])\n",
    "\n",
    "idx = pd.date_range(TS_start_time_df1.min(), TS_stop_time_df1.max(), freq='m')\n",
    "\n",
    "# get all broken barh xragens for each station\n",
    "for index in grouped_1.index:\n",
    "    df2 = df1.loc[(df1['STATION_TYPE'] == grouped_1.loc[index, 'STATION_TYPE']) & (df1['STATION_NUMBER'] == grouped_1.loc[index, 'STATION_NUMBER'])]\n",
    "    # initialize one station barh to clear last staion barh data\n",
    "    broken_barh_one_station = []\n",
    "\n",
    "    for index_2 in df2.index:\n",
    "        xrange_xmin = (df2.loc[index_2, 'TS_start_time'] - TS_start_time_df1.min()).to_period('m')\n",
    "        xrange_xwidth = df2.loc[index_2, 'time_delta']\n",
    "        broken_barh_one_station.append((xrange_xmin, xrange_xwidth))\n",
    "\n",
    "    broken_barh_all_stations.append(broken_barh_one_station)\n",
    "\n",
    "ax.grid(True)\n",
    "plt.show()\n",
    "\n",
    "# print(len(broken_barh_all_stations))\n",
    "grouped_1\n",
    "\n",
    "\n",
    "\n",
    "\n",
    "    \n",
    "\n",
    "\n"
   ]
  },
  {
   "cell_type": "code",
   "execution_count": 227,
   "metadata": {},
   "outputs": [
    {
     "name": "stdout",
     "output_type": "stream",
     "text": [
      "df1 start time min is: 2023-05-17 19:46:00\n"
     ]
    },
    {
     "data": {
      "image/png": "[encoded data removed]",
      "text/plain": [
       "<Figure size 640x480 with 1 Axes>"
      ]
     },
     "metadata": {},
     "output_type": "display_data"
    },
    {
     "data": {
      "text/html": [
       "<div>\n",
       "<style scoped>\n",
       "    .dataframe tbody tr th:only-of-type {\n",
       "        vertical-align: middle;\n",
       "    }\n",
       "\n",
       "    .dataframe tbody tr th {\n",
       "        vertical-align: top;\n",
       "    }\n",
       "\n",
       "    .dataframe thead th {\n",
       "        text-align: right;\n",
       "    }\n",
       "</style>\n",
       "<table border=\"1\" class=\"dataframe\">\n",
       "  <thead>\n",
       "    <tr style=\"text-align: right;\">\n",
       "      <th></th>\n",
       "      <th>STATION_TYPE</th>\n",
       "      <th>STATION_NUMBER</th>\n",
       "      <th>Serial Number</th>\n",
       "      <th>Test Pass/Fail Status</th>\n",
       "      <th>List of Failing Tests</th>\n",
       "      <th>Error Description</th>\n",
       "      <th>Test Start Time</th>\n",
       "      <th>Test Stop Time</th>\n",
       "      <th>serial_number</th>\n",
       "      <th>mlb_serial_number</th>\n",
       "      <th>...</th>\n",
       "      <th>PRODUCT</th>\n",
       "      <th>BUILD_STAGE</th>\n",
       "      <th>BUILD_SUBSTAGE</th>\n",
       "      <th>SITE</th>\n",
       "      <th>LOCATION</th>\n",
       "      <th>LINE_NUMBER</th>\n",
       "      <th>STATION_ID</th>\n",
       "      <th>ATL_WF_FW</th>\n",
       "      <th>ATL_WF_MREV</th>\n",
       "      <th>Module</th>\n",
       "    </tr>\n",
       "  </thead>\n",
       "  <tbody>\n",
       "    <tr>\n",
       "      <th>0</th>\n",
       "      <td>SMT-COEX1</td>\n",
       "      <td>1</td>\n",
       "      <td>109</td>\n",
       "      <td>109</td>\n",
       "      <td>0</td>\n",
       "      <td>0</td>\n",
       "      <td>109</td>\n",
       "      <td>109</td>\n",
       "      <td>109</td>\n",
       "      <td>109</td>\n",
       "      <td>...</td>\n",
       "      <td>109</td>\n",
       "      <td>109</td>\n",
       "      <td>0</td>\n",
       "      <td>109</td>\n",
       "      <td>109</td>\n",
       "      <td>109</td>\n",
       "      <td>109</td>\n",
       "      <td>109</td>\n",
       "      <td>109</td>\n",
       "      <td>109</td>\n",
       "    </tr>\n",
       "    <tr>\n",
       "      <th>1</th>\n",
       "      <td>SMT-COEX1</td>\n",
       "      <td>2</td>\n",
       "      <td>52</td>\n",
       "      <td>52</td>\n",
       "      <td>0</td>\n",
       "      <td>0</td>\n",
       "      <td>52</td>\n",
       "      <td>52</td>\n",
       "      <td>52</td>\n",
       "      <td>52</td>\n",
       "      <td>...</td>\n",
       "      <td>52</td>\n",
       "      <td>52</td>\n",
       "      <td>0</td>\n",
       "      <td>52</td>\n",
       "      <td>52</td>\n",
       "      <td>52</td>\n",
       "      <td>52</td>\n",
       "      <td>52</td>\n",
       "      <td>52</td>\n",
       "      <td>52</td>\n",
       "    </tr>\n",
       "    <tr>\n",
       "      <th>2</th>\n",
       "      <td>SMT-COEX1</td>\n",
       "      <td>3</td>\n",
       "      <td>59</td>\n",
       "      <td>59</td>\n",
       "      <td>0</td>\n",
       "      <td>0</td>\n",
       "      <td>59</td>\n",
       "      <td>59</td>\n",
       "      <td>59</td>\n",
       "      <td>59</td>\n",
       "      <td>...</td>\n",
       "      <td>59</td>\n",
       "      <td>59</td>\n",
       "      <td>0</td>\n",
       "      <td>59</td>\n",
       "      <td>59</td>\n",
       "      <td>59</td>\n",
       "      <td>59</td>\n",
       "      <td>59</td>\n",
       "      <td>59</td>\n",
       "      <td>59</td>\n",
       "    </tr>\n",
       "    <tr>\n",
       "      <th>3</th>\n",
       "      <td>SMT-COEX2</td>\n",
       "      <td>1</td>\n",
       "      <td>37</td>\n",
       "      <td>37</td>\n",
       "      <td>0</td>\n",
       "      <td>0</td>\n",
       "      <td>37</td>\n",
       "      <td>37</td>\n",
       "      <td>37</td>\n",
       "      <td>37</td>\n",
       "      <td>...</td>\n",
       "      <td>37</td>\n",
       "      <td>37</td>\n",
       "      <td>0</td>\n",
       "      <td>37</td>\n",
       "      <td>37</td>\n",
       "      <td>37</td>\n",
       "      <td>37</td>\n",
       "      <td>37</td>\n",
       "      <td>37</td>\n",
       "      <td>37</td>\n",
       "    </tr>\n",
       "    <tr>\n",
       "      <th>4</th>\n",
       "      <td>SMT-COEX2</td>\n",
       "      <td>2</td>\n",
       "      <td>31</td>\n",
       "      <td>31</td>\n",
       "      <td>0</td>\n",
       "      <td>0</td>\n",
       "      <td>31</td>\n",
       "      <td>31</td>\n",
       "      <td>31</td>\n",
       "      <td>31</td>\n",
       "      <td>...</td>\n",
       "      <td>31</td>\n",
       "      <td>31</td>\n",
       "      <td>0</td>\n",
       "      <td>31</td>\n",
       "      <td>31</td>\n",
       "      <td>31</td>\n",
       "      <td>31</td>\n",
       "      <td>31</td>\n",
       "      <td>31</td>\n",
       "      <td>31</td>\n",
       "    </tr>\n",
       "    <tr>\n",
       "      <th>5</th>\n",
       "      <td>SMT-COEX2</td>\n",
       "      <td>3</td>\n",
       "      <td>38</td>\n",
       "      <td>38</td>\n",
       "      <td>0</td>\n",
       "      <td>0</td>\n",
       "      <td>38</td>\n",
       "      <td>38</td>\n",
       "      <td>38</td>\n",
       "      <td>38</td>\n",
       "      <td>...</td>\n",
       "      <td>38</td>\n",
       "      <td>38</td>\n",
       "      <td>0</td>\n",
       "      <td>38</td>\n",
       "      <td>38</td>\n",
       "      <td>38</td>\n",
       "      <td>38</td>\n",
       "      <td>38</td>\n",
       "      <td>38</td>\n",
       "      <td>38</td>\n",
       "    </tr>\n",
       "    <tr>\n",
       "      <th>6</th>\n",
       "      <td>SMT-COEX3</td>\n",
       "      <td>1</td>\n",
       "      <td>106</td>\n",
       "      <td>106</td>\n",
       "      <td>0</td>\n",
       "      <td>0</td>\n",
       "      <td>106</td>\n",
       "      <td>106</td>\n",
       "      <td>106</td>\n",
       "      <td>106</td>\n",
       "      <td>...</td>\n",
       "      <td>106</td>\n",
       "      <td>106</td>\n",
       "      <td>0</td>\n",
       "      <td>106</td>\n",
       "      <td>106</td>\n",
       "      <td>106</td>\n",
       "      <td>106</td>\n",
       "      <td>106</td>\n",
       "      <td>106</td>\n",
       "      <td>106</td>\n",
       "    </tr>\n",
       "  </tbody>\n",
       "</table>\n",
       "<p>7 rows × 29 columns</p>\n",
       "</div>"
      ],
      "text/plain": [
       "  STATION_TYPE  STATION_NUMBER  Serial Number  Test Pass/Fail Status  \\\n",
       "0    SMT-COEX1               1            109                    109   \n",
       "1    SMT-COEX1               2             52                     52   \n",
       "2    SMT-COEX1               3             59                     59   \n",
       "3    SMT-COEX2               1             37                     37   \n",
       "4    SMT-COEX2               2             31                     31   \n",
       "5    SMT-COEX2               3             38                     38   \n",
       "6    SMT-COEX3               1            106                    106   \n",
       "\n",
       "   List of Failing Tests  Error Description  Test Start Time  Test Stop Time  \\\n",
       "0                      0                  0              109             109   \n",
       "1                      0                  0               52              52   \n",
       "2                      0                  0               59              59   \n",
       "3                      0                  0               37              37   \n",
       "4                      0                  0               31              31   \n",
       "5                      0                  0               38              38   \n",
       "6                      0                  0              106             106   \n",
       "\n",
       "   serial_number  mlb_serial_number  ...  PRODUCT  BUILD_STAGE  \\\n",
       "0            109                109  ...      109          109   \n",
       "1             52                 52  ...       52           52   \n",
       "2             59                 59  ...       59           59   \n",
       "3             37                 37  ...       37           37   \n",
       "4             31                 31  ...       31           31   \n",
       "5             38                 38  ...       38           38   \n",
       "6            106                106  ...      106          106   \n",
       "\n",
       "   BUILD_SUBSTAGE  SITE  LOCATION  LINE_NUMBER  STATION_ID  ATL_WF_FW  \\\n",
       "0               0   109       109          109         109        109   \n",
       "1               0    52        52           52          52         52   \n",
       "2               0    59        59           59          59         59   \n",
       "3               0    37        37           37          37         37   \n",
       "4               0    31        31           31          31         31   \n",
       "5               0    38        38           38          38         38   \n",
       "6               0   106       106          106         106        106   \n",
       "\n",
       "   ATL_WF_MREV  Module  \n",
       "0          109     109  \n",
       "1           52      52  \n",
       "2           59      59  \n",
       "3           37      37  \n",
       "4           31      31  \n",
       "5           38      38  \n",
       "6          106     106  \n",
       "\n",
       "[7 rows x 29 columns]"
      ]
     },
     "execution_count": 227,
     "metadata": {},
     "output_type": "execute_result"
    }
   ],
   "source": [
    "import time\n",
    "import datetime\n",
    "from matplotlib import pyplot as plt\n",
    "from matplotlib import ticker\n",
    "import csv\n",
    "import numpy as np\n",
    "import pandas as pd\n",
    "import matplotlib.dates as mdates\n",
    "\n",
    "fig, ax = plt.subplots()\n",
    "\n",
    "df = pd.read_csv('/Users/qingjie/Library/Mobile Documents/com~apple~CloudDocs/documents/project_apple/macatv/j604/p1/smt_combine/SMT_station_utility.csv')\n",
    "\n",
    "grouped_1 = df.groupby([\"STATION_TYPE\", \"STATION_NUMBER\"], as_index=False).count()\n",
    "df1 = df.sort_values(by=['STATION_TYPE','STATION_NUMBER','Test Start Time'], ignore_index=True)\n",
    "\n",
    "# transfer Test_Start_Time column from object to datetime so we could do calculation\n",
    "TS_start_time_df1 = pd.to_datetime(df1['Test Start Time'], format='%Y/%m/%d %H:%M')\n",
    "num_TS_start_time_df1 = mdates.date2num(TS_start_time_df1)\n",
    "# print(df1.columns.get_loc('Test Start Time'))\n",
    "df1.insert(df1.columns.get_loc('Test Start Time'), \"TS_start_time\", TS_start_time_df1, True)\n",
    "df1.insert(df1.columns.get_loc('TS_start_time'), \"num_TS_start_time\", num_TS_start_time_df1, True)\n",
    "\n",
    "\n",
    "TS_stop_time_df1 = pd.to_datetime(df1['Test Stop Time'], format='%Y/%m/%d %H:%M')\n",
    "num_TS_stop_time_df1 = mdates.date2num(TS_stop_time_df1)\n",
    "df1.insert(df1.columns.get_loc('Test Stop Time'), \"TS_stop_time\", TS_stop_time_df1, True)\n",
    "df1.insert(df1.columns.get_loc('TS_stop_time'), \"num_TS_stop_time\", num_TS_stop_time_df1, True)\n",
    "\n",
    "\n",
    "\n",
    "# time_delta column is test time duration for each test\n",
    "time_delta_df1 = TS_stop_time_df1 - TS_start_time_df1\n",
    "\n",
    "for index in time_delta_df1.index:\n",
    "    time_delta_df1.iloc[index] = time_delta_df1.iloc[index].total_seconds()/60\n",
    "\n",
    "df1.insert(df1.columns.get_loc('Test Stop Time')+1, \"time_delta\", time_delta_df1, True)\n",
    "\n",
    "# conver time_delta column dtype from object to float\n",
    "df1['time_delta'] = pd.to_numeric(df1['time_delta'])\n",
    "\n",
    "# df1.loc[:,'time_delta']\n",
    "\n",
    "# total_test_time_span is the total test time in minutes from first DUT of first day to last DUT of last day\n",
    "# this will be the x-axis\n",
    "total_test_time_span = (TS_stop_time_df1.max() - TS_start_time_df1.min()).total_seconds()/60\n",
    "\n",
    "print('df1 start time min is:', TS_start_time_df1.min())\n",
    "\n",
    "df1.to_csv('/Users/qingjie/Library/Mobile Documents/com~apple~CloudDocs/documents/project_apple/macatv/j604/p1/smt_combine/SMT_station_utility_df1.csv')\n",
    "\n",
    "\n",
    "# ============= set y axis below ================\n",
    "\n",
    "ylabels = [] \n",
    "\n",
    "for index in grouped_1.index:\n",
    "    ylabels.append(grouped_1.loc[index, 'STATION_TYPE'] + \"_\" + str(grouped_1.loc[index, 'STATION_NUMBER']))\n",
    "        \n",
    "\n",
    "# print(ylabels)\n",
    "# print(len(ylabels))\n",
    "\n",
    "ylim_bottom = 0\n",
    "yaxis_unit  = 1\n",
    "yaxis_step = 3 * yaxis_unit\n",
    "ylim_top = ylim_bottom + len(ylabels) * yaxis_step + 1 * yaxis_unit\n",
    "\n",
    "ax.set_ylim(ylim_bottom, ylim_top)\n",
    "\n",
    "yticks_position = []\n",
    "for i in range (ylim_bottom + 2 * yaxis_unit, ylim_top, yaxis_step):\n",
    "    yticks_position.append(i)\n",
    "\n",
    "ax.set_yticks(yticks_position, labels=ylabels)\n",
    "\n",
    "# ============= set x axis below ================\n",
    "\n",
    "xlim_left = 0\n",
    "xlim_right = total_test_time_span\n",
    "\n",
    "ax.set_xlim(xlim_left, xlim_right)\n",
    "ax.set_xlabel('minutes since first unit')\n",
    "\n",
    "broken_barh_all_stations = []\n",
    "\n",
    "# df1\n",
    "\n",
    "\n",
    "df2 =  df1.loc[(df1['STATION_TYPE'] == 'SMT-COEX1') & (df1['STATION_NUMBER'] == 2)]\n",
    "\n",
    "# get all broken barh xragens for each station\n",
    "for index in grouped_1.index:\n",
    "    df2 = df1.loc[(df1['STATION_TYPE'] == grouped_1.loc[index, 'STATION_TYPE']) & (df1['STATION_NUMBER'] == grouped_1.loc[index, 'STATION_NUMBER'])]\n",
    "    # initialize one station barh to clear last staion barh data\n",
    "    broken_barh_one_station = []\n",
    "\n",
    "    for index_2 in df2.index:\n",
    "        xrange_xmin = (df2.loc[index_2, 'TS_start_time'] - TS_start_time_df1.min()).total_seconds()/60\n",
    "        xrange_xwidth = df2.loc[index_2, 'time_delta']\n",
    "        broken_barh_one_station.append((xrange_xmin, xrange_xwidth))\n",
    "\n",
    "    broken_barh_all_stations.append(broken_barh_one_station)\n",
    "\n",
    "# yrange setting for broken barh\n",
    "yranges = []\n",
    "for label_index, lable in enumerate(ylabels):\n",
    "    yrange_ymin = yticks_position[label_index] - yaxis_unit\n",
    "    yrange_yheight = 2 * yaxis_unit\n",
    "    yrange = (yrange_ymin, yrange_yheight)\n",
    "    yranges.append(yrange)\n",
    "\n",
    "# plot broken barh for each station\n",
    "for label_index, lable in enumerate(ylabels):\n",
    "    ax.broken_barh(broken_barh_all_stations[label_index], yranges[label_index])\n",
    "\n",
    "ax.grid(True)\n",
    "\n",
    "plt.show()\n",
    "\n",
    "# print(len(broken_barh_all_stations))\n",
    "grouped_1"
   ]
  }
 ],
 "metadata": {
  "kernelspec": {
   "display_name": "Python 3 (ipykernel)",
   "language": "python",
   "name": "python3"
  },
  "language_info": {
   "codemirror_mode": {
    "name": "ipython",
    "version": 3
   },
   "file_extension": ".py",
   "mimetype": "text/x-python",
   "name": "python",
   "nbconvert_exporter": "python",
   "pygments_lexer": "ipython3",
   "version": "3.11.4"
  }
 },
 "nbformat": 4,
 "nbformat_minor": 5
}
